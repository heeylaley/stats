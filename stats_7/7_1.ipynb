{
 "cells": [
  {
   "cell_type": "code",
   "execution_count": 6,
   "id": "3fcac9a1",
   "metadata": {
    "scrolled": true
   },
   "outputs": [
    {
     "data": {
      "text/plain": [
       "2.6205"
      ]
     },
     "execution_count": 6,
     "metadata": {},
     "output_type": "execute_result"
    }
   ],
   "source": [
    "import numpy as np\n",
    "\n",
    "zp = np.array([35, 45, 190, 200, 40, 70, 54, 150, 120, 110])\n",
    "ks = np.array([401, 574, 874, 919, 459, 739, 653, 902, 746, 832])\n",
    "\n",
    "# 1. c использованием intercept:\n",
    "int_1 = (np.mean(zp * ks) - (np.mean(zp) * np.mean(ks))) / (np.mean(zp ** 2) - np.mean(zp) ** 2)\n",
    "round(int_1, 4)"
   ]
  },
  {
   "cell_type": "code",
   "execution_count": 8,
   "id": "f8aa8746",
   "metadata": {},
   "outputs": [
    {
     "data": {
      "text/plain": [
       "444.1774"
      ]
     },
     "execution_count": 8,
     "metadata": {},
     "output_type": "execute_result"
    }
   ],
   "source": [
    "int_2 = np.mean(ks) - int_1 * np.mean(zp)\n",
    "round(int_2, 4)"
   ]
  },
  {
   "cell_type": "code",
   "execution_count": 15,
   "id": "0c8512a9",
   "metadata": {
    "scrolled": false
   },
   "outputs": [
    {
     "name": "stdout",
     "output_type": "stream",
     "text": [
      "535.9\n",
      "562.1\n",
      "942.08\n",
      "968.29\n",
      "549.0\n",
      "627.62\n",
      "585.69\n",
      "837.26\n",
      "758.64\n",
      "732.44\n"
     ]
    }
   ],
   "source": [
    "int_res = int_2 + int_1 * zp\n",
    "\n",
    "for el in int_res:\n",
    "    print(round(el, 2))"
   ]
  },
  {
   "cell_type": "code",
   "execution_count": 9,
   "id": "02fc19b0",
   "metadata": {},
   "outputs": [
    {
     "data": {
      "text/plain": [
       "7.001"
      ]
     },
     "execution_count": 9,
     "metadata": {},
     "output_type": "execute_result"
    }
   ],
   "source": [
    "# 2. без intercept:\n",
    "noint_1 = np.mean(ks) / np.mean(zp)\n",
    "round(noint_1, 4)"
   ]
  },
  {
   "cell_type": "code",
   "execution_count": 13,
   "id": "17e6a0f8",
   "metadata": {
    "scrolled": true
   },
   "outputs": [
    {
     "name": "stdout",
     "output_type": "stream",
     "text": [
      "245.03\n",
      "315.04\n",
      "1330.19\n",
      "1400.2\n",
      "280.04\n",
      "490.07\n",
      "378.05\n",
      "1050.15\n",
      "840.12\n",
      "770.11\n"
     ]
    }
   ],
   "source": [
    "noint_res = noint_1 * zp\n",
    "\n",
    "for el in noint_res:\n",
    "    print(round(el, 2))"
   ]
  },
  {
   "cell_type": "code",
   "execution_count": 17,
   "id": "7773ea18",
   "metadata": {},
   "outputs": [
    {
     "data": {
      "text/html": [
       "<div>\n",
       "<style scoped>\n",
       "    .dataframe tbody tr th:only-of-type {\n",
       "        vertical-align: middle;\n",
       "    }\n",
       "\n",
       "    .dataframe tbody tr th {\n",
       "        vertical-align: top;\n",
       "    }\n",
       "\n",
       "    .dataframe thead th {\n",
       "        text-align: right;\n",
       "    }\n",
       "</style>\n",
       "<table border=\"1\" class=\"dataframe\">\n",
       "  <thead>\n",
       "    <tr style=\"text-align: right;\">\n",
       "      <th></th>\n",
       "      <th>зарплата</th>\n",
       "      <th>кред. скоринг</th>\n",
       "      <th>с интерсептом</th>\n",
       "      <th>без интерсепта</th>\n",
       "    </tr>\n",
       "  </thead>\n",
       "  <tbody>\n",
       "    <tr>\n",
       "      <th>0</th>\n",
       "      <td>35</td>\n",
       "      <td>401</td>\n",
       "      <td>535.896218</td>\n",
       "      <td>245.034517</td>\n",
       "    </tr>\n",
       "    <tr>\n",
       "      <th>1</th>\n",
       "      <td>45</td>\n",
       "      <td>574</td>\n",
       "      <td>562.101607</td>\n",
       "      <td>315.044379</td>\n",
       "    </tr>\n",
       "    <tr>\n",
       "      <th>2</th>\n",
       "      <td>190</td>\n",
       "      <td>874</td>\n",
       "      <td>942.079745</td>\n",
       "      <td>1330.187377</td>\n",
       "    </tr>\n",
       "    <tr>\n",
       "      <th>3</th>\n",
       "      <td>200</td>\n",
       "      <td>919</td>\n",
       "      <td>968.285134</td>\n",
       "      <td>1400.197239</td>\n",
       "    </tr>\n",
       "    <tr>\n",
       "      <th>4</th>\n",
       "      <td>40</td>\n",
       "      <td>459</td>\n",
       "      <td>548.998913</td>\n",
       "      <td>280.039448</td>\n",
       "    </tr>\n",
       "    <tr>\n",
       "      <th>5</th>\n",
       "      <td>70</td>\n",
       "      <td>739</td>\n",
       "      <td>627.615079</td>\n",
       "      <td>490.069034</td>\n",
       "    </tr>\n",
       "    <tr>\n",
       "      <th>6</th>\n",
       "      <td>54</td>\n",
       "      <td>653</td>\n",
       "      <td>585.686457</td>\n",
       "      <td>378.053254</td>\n",
       "    </tr>\n",
       "    <tr>\n",
       "      <th>7</th>\n",
       "      <td>150</td>\n",
       "      <td>902</td>\n",
       "      <td>837.258190</td>\n",
       "      <td>1050.147929</td>\n",
       "    </tr>\n",
       "    <tr>\n",
       "      <th>8</th>\n",
       "      <td>120</td>\n",
       "      <td>746</td>\n",
       "      <td>758.642023</td>\n",
       "      <td>840.118343</td>\n",
       "    </tr>\n",
       "    <tr>\n",
       "      <th>9</th>\n",
       "      <td>110</td>\n",
       "      <td>832</td>\n",
       "      <td>732.436634</td>\n",
       "      <td>770.108481</td>\n",
       "    </tr>\n",
       "  </tbody>\n",
       "</table>\n",
       "</div>"
      ],
      "text/plain": [
       "   зарплата  кред. скоринг  с интерсептом  без интерсепта\n",
       "0        35            401     535.896218      245.034517\n",
       "1        45            574     562.101607      315.044379\n",
       "2       190            874     942.079745     1330.187377\n",
       "3       200            919     968.285134     1400.197239\n",
       "4        40            459     548.998913      280.039448\n",
       "5        70            739     627.615079      490.069034\n",
       "6        54            653     585.686457      378.053254\n",
       "7       150            902     837.258190     1050.147929\n",
       "8       120            746     758.642023      840.118343\n",
       "9       110            832     732.436634      770.108481"
      ]
     },
     "execution_count": 17,
     "metadata": {},
     "output_type": "execute_result"
    }
   ],
   "source": [
    "import pandas as pd\n",
    "\n",
    "tab = pd.DataFrame({'зарплата': zp, 'кред. скоринг': ks, 'с интерсептом': int_res, 'без интерсепта': noint_res}, columns=['зарплата', 'кред. скоринг', 'с интерсептом', 'без интерсепта'])\n",
    "tab"
   ]
  }
 ],
 "metadata": {
  "kernelspec": {
   "display_name": "Python 3",
   "language": "python",
   "name": "python3"
  },
  "language_info": {
   "codemirror_mode": {
    "name": "ipython",
    "version": 3
   },
   "file_extension": ".py",
   "mimetype": "text/x-python",
   "name": "python",
   "nbconvert_exporter": "python",
   "pygments_lexer": "ipython3",
   "version": "3.8.8"
  }
 },
 "nbformat": 4,
 "nbformat_minor": 5
}
