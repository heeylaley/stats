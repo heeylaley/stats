{
 "cells": [
  {
   "cell_type": "code",
   "execution_count": 1,
   "id": "803753dc",
   "metadata": {
    "scrolled": true
   },
   "outputs": [
    {
     "name": "stdout",
     "output_type": "stream",
     "text": [
      "0: b_0 = 0.107, b_1 = 0.89754, c = 399736.8945969929\n",
      "500000: b_0 = 319.26119, b_1 = 3.53998, c = 10428.613732861277\n",
      "1000000: b_0 = 409.03577, b_1 = 2.8792, c = 6783.672985320853\n",
      "1500000: b_0 = 434.29128, b_1 = 2.6933, c = 6495.206045311317\n",
      "2000000: b_0 = 441.39619, b_1 = 2.64101, c = 6472.376270771214\n",
      "2500000: b_0 = 443.39496, b_1 = 2.6263, c = 6470.569482771402\n"
     ]
    }
   ],
   "source": [
    "import numpy as np\n",
    "\n",
    "zp = np.array([35, 45, 190, 200, 40, 70, 54, 150, 120, 110])\n",
    "ks = np.array([401, 574, 874, 919, 459, 739, 653, 902, 746, 832])\n",
    "b_0 = 0.1\n",
    "b_1 = 0.1\n",
    "m = zp.shape[0]\n",
    "\n",
    "def mse_(B0, B1, y, x, n):\n",
    "    return np.sum((B0 + B1 * x - y) ** 2) / n\n",
    "\n",
    "for el in range(3000000):\n",
    "    ks_res = b_0 + b_1 * zp\n",
    "    b_0 -= 0.000005 * (2 / m) * np.sum(ks_res - ks)\n",
    "    b_1 -= 0.000005 * (2 / m) * np.sum((ks_res - ks) * zp)\n",
    "    if el % 500000 == 0:\n",
    "        print('{el}: b_0 = {b_0}, b_1 = {b_1}, c = {c}'.format(el = el, b_0 = round(b_0, 5), b_1 = round(b_1, 5), c = np.sum((b_0 + b_1 * zp - ks) ** 2) / m))"
   ]
  }
 ],
 "metadata": {
  "kernelspec": {
   "display_name": "Python 3",
   "language": "python",
   "name": "python3"
  },
  "language_info": {
   "codemirror_mode": {
    "name": "ipython",
    "version": 3
   },
   "file_extension": ".py",
   "mimetype": "text/x-python",
   "name": "python",
   "nbconvert_exporter": "python",
   "pygments_lexer": "ipython3",
   "version": "3.8.8"
  }
 },
 "nbformat": 4,
 "nbformat_minor": 5
}
