{
 "cells": [
  {
   "cell_type": "code",
   "execution_count": 12,
   "id": "ee3495f5",
   "metadata": {
    "scrolled": false
   },
   "outputs": [
    {
     "name": "stdout",
     "output_type": "stream",
     "text": [
      "0, b = -523526.0990070392, c = 3775969651556460.0\n",
      "500, b = -inf, c = inf\n",
      "1000, b = -inf, c = inf\n",
      "1500, b = -inf, c = inf\n",
      "2000, b = -inf, c = inf\n",
      "2500, b = -inf, c = inf\n"
     ]
    },
    {
     "name": "stderr",
     "output_type": "stream",
     "text": [
      "<ipython-input-12-d1b482fd1bf5>:10: RuntimeWarning: overflow encountered in multiply\n",
      "  b -= a * (2 / m) * np.sum((b * zp - ks) * zp)\n"
     ]
    }
   ],
   "source": [
    "import numpy as np\n",
    "\n",
    "zp = np.array([35, 45, 190, 200, 40, 70, 54, 150, 120, 110])\n",
    "ks = np.array([401, 574, 874, 919, 459, 739, 653, 902, 746, 832])\n",
    "a = 1 * np.e - 6\n",
    "b = 0.1\n",
    "m = zp.shape[0]\n",
    "\n",
    "for el in range(3000):\n",
    "    b =- a * (2 / m) * np.sum((b * zp - ks) * zp)\n",
    "    print('{el}, b = {b}, c = {c}'.format(el = el, b = b, c = np.mean((b * zp - ks) ** 2))) if el % 500 == 0 else False"
   ]
  },
  {
   "cell_type": "code",
   "execution_count": null,
   "id": "8afb9df0",
   "metadata": {},
   "outputs": [],
   "source": []
  }
 ],
 "metadata": {
  "kernelspec": {
   "display_name": "Python 3",
   "language": "python",
   "name": "python3"
  },
  "language_info": {
   "codemirror_mode": {
    "name": "ipython",
    "version": 3
   },
   "file_extension": ".py",
   "mimetype": "text/x-python",
   "name": "python",
   "nbconvert_exporter": "python",
   "pygments_lexer": "ipython3",
   "version": "3.8.8"
  }
 },
 "nbformat": 4,
 "nbformat_minor": 5
}
