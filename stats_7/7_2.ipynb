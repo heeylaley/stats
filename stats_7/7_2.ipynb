{
 "cells": [
  {
   "cell_type": "code",
   "execution_count": 27,
   "id": "ee3495f5",
   "metadata": {
    "scrolled": true
   },
   "outputs": [
    {
     "name": "stdout",
     "output_type": "stream",
     "text": [
      "0: b = 0.259528, c = 493237.721\n",
      "500: b = 5.889816, c = 56516.858\n",
      "1000: b = 5.88982, c = 56516.858\n",
      "1500: b = 5.88982, c = 56516.858\n",
      "2000: b = 5.88982, c = 56516.858\n",
      "2500: b = 5.88982, c = 56516.858\n"
     ]
    }
   ],
   "source": [
    "import numpy as np\n",
    "\n",
    "zp = np.array([35, 45, 190, 200, 40, 70, 54, 150, 120, 110])\n",
    "ks = np.array([401, 574, 874, 919, 459, 739, 653, 902, 746, 832])\n",
    "b = 0.1\n",
    "m = zp.shape[0]\n",
    "\n",
    "for el in range(3000):\n",
    "    b -= 0.000001 * (2 / m) * np.sum((b * zp - ks) * zp)\n",
    "    if el % 500 == 0:\n",
    "        print('{el}: b = {b}, c = {c}'.format(el = el, b = round(b, 6), c = round(np.mean((b * zp - ks) ** 2), 3)))"
   ]
  }
 ],
 "metadata": {
  "kernelspec": {
   "display_name": "Python 3",
   "language": "python",
   "name": "python3"
  },
  "language_info": {
   "codemirror_mode": {
    "name": "ipython",
    "version": 3
   },
   "file_extension": ".py",
   "mimetype": "text/x-python",
   "name": "python",
   "nbconvert_exporter": "python",
   "pygments_lexer": "ipython3",
   "version": "3.8.8"
  }
 },
 "nbformat": 4,
 "nbformat_minor": 5
}
