{
 "cells": [
  {
   "cell_type": "code",
   "execution_count": 2,
   "id": "f41ac523",
   "metadata": {},
   "outputs": [
    {
     "data": {
      "text/plain": [
       "9157.84"
      ]
     },
     "execution_count": 2,
     "metadata": {},
     "output_type": "execute_result"
    }
   ],
   "source": [
    "import numpy as np\n",
    "import pandas as pd\n",
    "\n",
    "zp = np.array([35, 45, 190, 200, 40, 70, 54, 150, 120, 110])\n",
    "ks = np.array([401, 574, 874, 919, 459, 739, 653, 902, 746, 832])\n",
    "\n",
    "covar = np.mean(zp * ks) - (np.mean(zp) * np.mean(ks))\n",
    "round(covar, 3)"
   ]
  },
  {
   "cell_type": "code",
   "execution_count": 12,
   "id": "63c21228",
   "metadata": {},
   "outputs": [
    {
     "name": "stdout",
     "output_type": "stream",
     "text": [
      "9157.84\n",
      "Результаты совпадают\n"
     ]
    }
   ],
   "source": [
    "# смещенная оценка ddof=0\n",
    "covar_np = np.cov(zp, ks, ddof=0)[0, 1]\n",
    "print(covar_np)\n",
    "print('Результаты совпадают') if round(covar, 3) == covar_np else print ('Результаты не совпадают')"
   ]
  },
  {
   "cell_type": "markdown",
   "id": "d1df3a19",
   "metadata": {},
   "source": [
    "Коэфф. Пирсона"
   ]
  },
  {
   "cell_type": "code",
   "execution_count": 15,
   "id": "24a8c097",
   "metadata": {},
   "outputs": [
    {
     "data": {
      "text/plain": [
       "0.88749"
      ]
     },
     "execution_count": 15,
     "metadata": {},
     "output_type": "execute_result"
    }
   ],
   "source": [
    "# Через pandas\n",
    "zp_ = pd.Series(zp)\n",
    "ks_ = pd.Series(ks)\n",
    "\n",
    "pears_pd = zp_.corr(ks_, method='pearson')\n",
    "round(pears_pd, 5)"
   ]
  },
  {
   "cell_type": "code",
   "execution_count": 18,
   "id": "131ff0f6",
   "metadata": {
    "scrolled": true
   },
   "outputs": [
    {
     "data": {
      "text/plain": [
       "0.88749"
      ]
     },
     "execution_count": 18,
     "metadata": {},
     "output_type": "execute_result"
    }
   ],
   "source": [
    "# Через numpy\n",
    "pears_np = np.corrcoef(zp, ks)[0, 1]\n",
    "round(pears_np, 5)"
   ]
  },
  {
   "cell_type": "code",
   "execution_count": 21,
   "id": "e4b80f59",
   "metadata": {},
   "outputs": [
    {
     "data": {
      "text/plain": [
       "0.88749"
      ]
     },
     "execution_count": 21,
     "metadata": {},
     "output_type": "execute_result"
    }
   ],
   "source": [
    "# Вручную\n",
    "pears_manual = covar / (np.std(zp) * np.std(ks))\n",
    "round(pears_manual, 5)"
   ]
  },
  {
   "cell_type": "code",
   "execution_count": 23,
   "id": "7723d5c5",
   "metadata": {
    "scrolled": true
   },
   "outputs": [
    {
     "name": "stdout",
     "output_type": "stream",
     "text": [
      "Результаты совпадают\n"
     ]
    }
   ],
   "source": [
    "print('Результаты совпадают') if round(pears_pd, 5) == round(pears_np, 5) and round(pears_np, 5) == round(pears_manual, 5) else print ('Результаты не совпадают')"
   ]
  }
 ],
 "metadata": {
  "kernelspec": {
   "display_name": "Python 3",
   "language": "python",
   "name": "python3"
  },
  "language_info": {
   "codemirror_mode": {
    "name": "ipython",
    "version": 3
   },
   "file_extension": ".py",
   "mimetype": "text/x-python",
   "name": "python",
   "nbconvert_exporter": "python",
   "pygments_lexer": "ipython3",
   "version": "3.8.8"
  }
 },
 "nbformat": 4,
 "nbformat_minor": 5
}
