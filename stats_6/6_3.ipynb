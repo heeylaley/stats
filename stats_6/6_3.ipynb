{
 "cells": [
  {
   "cell_type": "code",
   "execution_count": 6,
   "id": "a8f75ea5",
   "metadata": {},
   "outputs": [
    {
     "data": {
      "text/plain": [
       "[172.314, 176.086]"
      ]
     },
     "execution_count": 6,
     "metadata": {},
     "output_type": "execute_result"
    }
   ],
   "source": [
    "import numpy as np\n",
    "\n",
    "d = 25\n",
    "sigma = np.sqrt(d)\n",
    "n = 27\n",
    "m = 174.2\n",
    "alpha = 0.05/2\n",
    "t = 1.96\n",
    "interval_left = m - t * sigma / np.sqrt(n)\n",
    "interval_right = m + t * sigma / np.sqrt(n)\n",
    "interval = [round(interval_left, 3), round(interval_right, 3)]\n",
    "interval"
   ]
  }
 ],
 "metadata": {
  "kernelspec": {
   "display_name": "Python 3",
   "language": "python",
   "name": "python3"
  },
  "language_info": {
   "codemirror_mode": {
    "name": "ipython",
    "version": 3
   },
   "file_extension": ".py",
   "mimetype": "text/x-python",
   "name": "python",
   "nbconvert_exporter": "python",
   "pygments_lexer": "ipython3",
   "version": "3.8.8"
  }
 },
 "nbformat": 4,
 "nbformat_minor": 5
}
