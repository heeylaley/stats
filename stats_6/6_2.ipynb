{
 "cells": [
  {
   "cell_type": "code",
   "execution_count": 8,
   "id": "3fed723f",
   "metadata": {
    "scrolled": true
   },
   "outputs": [
    {
     "data": {
      "text/plain": [
       "[110.56, 125.64]"
      ]
     },
     "execution_count": 8,
     "metadata": {},
     "output_type": "execute_result"
    }
   ],
   "source": [
    "import numpy as np\n",
    "import scipy.stats as stats\n",
    "\n",
    "\n",
    "iq = [131, 125, 115, 122, 131, 115, 107, 99, 125, 111]\n",
    "m = np.mean(iq)\n",
    "sigma = np.std(iq, ddof=1)\n",
    "t = abs(stats.t.ppf((1 - 0.95) / 2, len(iq) - 1))\n",
    "interval_left = m - t * sigma / np.sqrt(len(iq))\n",
    "interval_right = m + t * sigma / np.sqrt(len(iq))\n",
    "interval = [round(interval_left, 2), round(interval_right, 2)]\n",
    "interval"
   ]
  }
 ],
 "metadata": {
  "kernelspec": {
   "display_name": "Python 3",
   "language": "python",
   "name": "python3"
  },
  "language_info": {
   "codemirror_mode": {
    "name": "ipython",
    "version": 3
   },
   "file_extension": ".py",
   "mimetype": "text/x-python",
   "name": "python",
   "nbconvert_exporter": "python",
   "pygments_lexer": "ipython3",
   "version": "3.8.8"
  }
 },
 "nbformat": 4,
 "nbformat_minor": 5
}
