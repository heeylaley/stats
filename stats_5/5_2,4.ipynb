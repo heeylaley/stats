{
 "cells": [
  {
   "cell_type": "markdown",
   "id": "accb2941",
   "metadata": {},
   "source": [
    "5.2"
   ]
  },
  {
   "cell_type": "code",
   "execution_count": 2,
   "id": "4831479f",
   "metadata": {},
   "outputs": [
    {
     "data": {
      "text/plain": [
       "[6.3, 6.9]"
      ]
     },
     "execution_count": 2,
     "metadata": {},
     "output_type": "execute_result"
    }
   ],
   "source": [
    "import numpy\n",
    "\n",
    "num_list = [6.9, 6.1, 6.2, 6.8, 7.5, 6.3, 6.4, 6.9, 6.7, 6.1]\n",
    "m = numpy.mean(num_list)\n",
    "sigma_2 = numpy.std(num_list, ddof=1)\n",
    "t = 2.262 # коэф. Стьюдента\n",
    "left = m - t * sigma_2/numpy.sqrt(len(num_list))\n",
    "right = m + t * sigma_2/numpy.sqrt(len(num_list))\n",
    "di = [round(left, 1), round(right, 1)]\n",
    "di"
   ]
  },
  {
   "cell_type": "markdown",
   "id": "62c75a32",
   "metadata": {},
   "source": [
    "5.4"
   ]
  },
  {
   "cell_type": "code",
   "execution_count": 3,
   "id": "dd4605e3",
   "metadata": {},
   "outputs": [
    {
     "data": {
      "text/plain": [
       "-1.065"
      ]
     },
     "execution_count": 3,
     "metadata": {},
     "output_type": "execute_result"
    }
   ],
   "source": [
    "num_list = [202, 203, 199, 197, 195, 201, 200, 204, 194, 190]\n",
    "sigma_4 = numpy.std(num_list, ddof=1)\n",
    "m = numpy.mean(num_list)\n",
    "tk_1 = 3.250\n",
    "tk_2 = -3.250\n",
    "res = (m - 200) / (sigma_4 / numpy.sqrt(len(num_list)))\n",
    "round(res, 3)"
   ]
  },
  {
   "cell_type": "markdown",
   "id": "33d10070",
   "metadata": {},
   "source": [
    "попадает в область Н0 (верна на уровне значимости 5%)"
   ]
  }
 ],
 "metadata": {
  "kernelspec": {
   "display_name": "Python 3",
   "language": "python",
   "name": "python3"
  },
  "language_info": {
   "codemirror_mode": {
    "name": "ipython",
    "version": 3
   },
   "file_extension": ".py",
   "mimetype": "text/x-python",
   "name": "python",
   "nbconvert_exporter": "python",
   "pygments_lexer": "ipython3",
   "version": "3.8.8"
  }
 },
 "nbformat": 4,
 "nbformat_minor": 5
}
