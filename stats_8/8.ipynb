{
 "cells": [
  {
   "cell_type": "code",
   "execution_count": 12,
   "id": "238aed9f",
   "metadata": {},
   "outputs": [
    {
     "name": "stdout",
     "output_type": "stream",
     "text": [
      "p-value = 0.0105\n"
     ]
    }
   ],
   "source": [
    "import numpy as np\n",
    "from scipy import stats\n",
    "\n",
    "foot = np.array([173, 175, 180, 178, 177, 185, 183, 182])\n",
    "hock = np.array([177, 179, 180, 188, 177, 172, 171, 184, 180])\n",
    "weightl = np.array([172, 173, 169, 177, 166, 180, 178, 177, 172, 166, 170])\n",
    "stats, pval = stats.f_oneway(foot, hock, weightl)\n",
    "\n",
    "print(f'p-value = {round(pval, 4)}')"
   ]
  },
  {
   "cell_type": "code",
   "execution_count": 17,
   "id": "d9970bea",
   "metadata": {
    "scrolled": true
   },
   "outputs": [
    {
     "name": "stdout",
     "output_type": "stream",
     "text": [
      "Статистически средний рост спортсменов при уровне достоверности alpha = 0,05 не отличается\n"
     ]
    }
   ],
   "source": [
    "# alpha = 0.05\n",
    "print('Статистически средний рост спортсменов при уровне достоверности alpha = 0,05 не отличается') if pval < 0.05 else print('Статистически средний рост спортсменов при уровне достоверности alpha = 0,05 отличается')"
   ]
  },
  {
   "cell_type": "code",
   "execution_count": 16,
   "id": "203a5ae8",
   "metadata": {},
   "outputs": [
    {
     "name": "stdout",
     "output_type": "stream",
     "text": [
      "Статистически средний рост спортсменов при уровне достоверности alpha = 0,01 отличается\n"
     ]
    }
   ],
   "source": [
    "# alpha = 0.01\n",
    "print('Статистически средний рост спортсменов при уровне достоверности alpha = 0,01 не отличается') if pval < 0.01 else print('Статистически средний рост спортсменов при уровне достоверности alpha = 0,01 отличается')"
   ]
  }
 ],
 "metadata": {
  "kernelspec": {
   "display_name": "Python 3",
   "language": "python",
   "name": "python3"
  },
  "language_info": {
   "codemirror_mode": {
    "name": "ipython",
    "version": 3
   },
   "file_extension": ".py",
   "mimetype": "text/x-python",
   "name": "python",
   "nbconvert_exporter": "python",
   "pygments_lexer": "ipython3",
   "version": "3.8.8"
  }
 },
 "nbformat": 4,
 "nbformat_minor": 5
}
